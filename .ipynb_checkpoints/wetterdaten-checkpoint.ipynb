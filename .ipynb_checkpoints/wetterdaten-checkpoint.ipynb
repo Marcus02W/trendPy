{
 "cells": [
  {
   "cell_type": "markdown",
   "metadata": {},
   "source": [
    "# Wetterdaten vom Deutschen Wetterdienst, gibt es Trends?\n",
    "gestellt von Dr. Lauer-Baré für Kurs 21DSB, Fortgeschrittene Programmierung, 2022"
   ]
  },
  {
   "cell_type": "markdown",
   "metadata": {},
   "source": [
    "* Regen und Temperatur sollen roh und \"gelättet\" dargestellt werden\n",
    "* Expamplarisch Daten aus Bundesländern im Süden, Norden, Osten, Westen vergleichen\n",
    "* Durchschnitt prüfen"
   ]
  },
  {
   "cell_type": "markdown",
   "metadata": {},
   "source": [
    "## Notebook by: Jan Henrik Bertrand, David Hoffmann, Leonard Jung"
   ]
  },
  {
   "cell_type": "markdown",
   "metadata": {},
   "source": [
    "## Tools\n",
    "\n",
    "* pandas: DataFrame, drop, read_csv, rolling, index, plot, etc..\n",
    "* matplotlib.pylab: Plotlabeling, Fontsize, Save Plots,...\n",
    "* geopandas: pandas extension for geospacial data.\n",
    "* numpy: for scientific calculaions with python.\n",
    "* pathlib: provide script execution paths.\n",
    "* os: provide system level functionality\n",
    "* sklearn: used here for its validation metrics"
   ]
  },
  {
   "cell_type": "markdown",
   "metadata": {},
   "source": [
    "## Quellen\n",
    "\n",
    "* [Pandas Doc](https://pandas.pydata.org/)\n",
    "* [Matplotlib subplot](https://matplotlib.org/3.2.1/api/_as_gen/matplotlib.pyplot.subplots.html)\n",
    "* [Matplotlib plot](https://matplotlib.org/3.2.1/api/_as_gen/matplotlib.pyplot.plot.html)\n",
    "* [Geopandas](https://geopandas.org/en/stable/docs.html)\n",
    "* [Pathlib](https://docs.python.org/3/library/pathlib.html)\n",
    "* [Os](https://docs.python.org/3/library/os.html)\n",
    "* [SKlearn metrics](https://scikit-learn.org/stable/modules/generated/sklearn.metrics.mean_absolute_error.html)\n",
    "* [State Weights](https://de.statista.com/statistik/daten/studie/154868/umfrage/flaeche-der-deutschen-bundeslaender/)"
   ]
  },
  {
   "cell_type": "code",
   "execution_count": 1,
   "metadata": {},
   "outputs": [],
   "source": [
    "import pandas as pd\n",
    "import matplotlib.pyplot as plt\n",
    "import numpy as np\n",
    "#import geopandas as gpd\n",
    "from pathlib import Path\n",
    "import os\n",
    "from sklearn.metrics import mean_squared_error\n",
    "from sklearn.metrics import mean_absolute_error\n",
    "\n",
    "pd.options.plotting.backend = 'plotly' \n"
   ]
  },
  {
   "cell_type": "markdown",
   "metadata": {},
   "source": [
    "First, we need to load the data into the notebook:\n",
    "* geo_rain_df is a dataset with data from 1881 to 2019 that contains the average amount of rainfall for each German state and entire Germany.\n",
    "* geo_air_df is a dataset with data from 1881 to 2019 that contains the average temperature per year for each German state and entire Germany."
   ]
  },
  {
   "cell_type": "code",
   "execution_count": 3,
   "metadata": {},
   "outputs": [],
   "source": [
    "# Load data into pandas DataFrame\n",
    "#geo_rain_df = pd.read_csv('data/rainGermanyHistorical.csv', sep=';', header=1, index_col='Jahr') # Loads data into a so called DataFrame which is similar to an Excel sheet\n",
    "geo_air_df =  pd.read_csv('data/airGermany_historical.csv', sep=';', header=1, index_col='Jahr')"
   ]
  },
  {
   "cell_type": "code",
   "execution_count": null,
   "metadata": {},
   "outputs": [],
   "source": [
    "# Prepare DataFrame\n",
    "geo_rain_df.replace(\" \", \"\", inplace=True) # replaces white spaces with nothing in entire DataFrame\n",
    "geo_air_df.replace(\" \", \"\", inplace=True)\n",
    "\n",
    "# Drop column \"Jahr.1\" containing the string \"year\" and the empty one at the end\n",
    "geo_rain_df.drop(labels=[\"Jahr.1\", \"Unnamed: 19\"], axis=1, inplace=True) # .drop() is used to remove the columns along the axis 1, which are the columns\n",
    "geo_air_df.drop(labels=[\"Jahr.1\", \"Unnamed: 19\"], axis=1, inplace=True) # inplace means that the operation is performed on the actual DataFrame itself, not on a copy"
   ]
  },
  {
   "cell_type": "code",
   "execution_count": null,
   "metadata": {},
   "outputs": [],
   "source": [
    "geo_rain_df"
   ]
  },
  {
   "cell_type": "code",
   "execution_count": null,
   "metadata": {},
   "outputs": [],
   "source": [
    "geo_rain_df.plot()"
   ]
  },
  {
   "cell_type": "code",
   "execution_count": null,
   "metadata": {},
   "outputs": [],
   "source": [
    "geo_rain_df.rolling(40, 3).mean().plot.bar()"
   ]
  },
  {
   "cell_type": "code",
   "execution_count": null,
   "metadata": {},
   "outputs": [],
   "source": [
    "geo_rain_df.T.plot.bar()\n"
   ]
  },
  {
   "cell_type": "markdown",
   "metadata": {},
   "source": [
    "# 1.) Visualizing rain and temperature raw and smothed "
   ]
  },
  {
   "cell_type": "code",
   "execution_count": null,
   "metadata": {},
   "outputs": [],
   "source": [
    "def visualize(x_air_iterable, y_air_iterable, x_rain_iterable, y_rain_iterable, col_title=None,\n",
    "              rolling_window_size=40, mov_avg=True, reg=True, pred_year=None) -> None:\n",
    "    \"\"\"\n",
    "    Creates a plot for weather and rainfall data using matplotlib.\n",
    "    It also creates a moving average and a polynomial regression of degree 2 from the data.\n",
    "    \"\"\"\n",
    "\n",
    "    # Prepare X-values according to pred_year if pred_year is higher than both max x values\n",
    "    if pred_year and (pred_year > min(max(x_air_iterable), max(x_rain_iterable))):\n",
    "        # Generates additional x values for all the year to be predicted\n",
    "        x_air_extension = [i+max(x_air_iterable)+1 for i in range(pred_year-max(x_air_iterable))]\n",
    "        x_rain_extension = [i+max(x_rain_iterable)+1 for i in range(pred_year-max(x_rain_iterable))]\n",
    "\n",
    "        # Merges the extensions with exisiting x-values after converting them into a pandas Series (similar to a list)\n",
    "        x_air_extended = pd.concat([x_air_iterable, pd.Series(x_air_extension)])\n",
    "        x_rain_extended = pd.concat([x_rain_iterable, pd.Series(x_rain_extension)])\n",
    "\n",
    "        if not reg:\n",
    "            print(\"WARN: You are trying to get predictions with regression disabled!\")\n",
    "    else:\n",
    "        # Assign the raw iterables to the variables used for visualization if not predictions should be made\n",
    "        x_air_extended = x_air_iterable\n",
    "        x_rain_extended = x_rain_iterable\n",
    "\n",
    "\n",
    "    # Create Figure, Axes and Title\n",
    "    fig, (ax1, ax2) = plt.subplots(2, 1) # .subplots() creates two plots inside the matplotlib window that are ordered in a column and two rows\n",
    "    fig.suptitle(col_title) # Sets the title for the figure (which contains the plots)\n",
    "    fig.canvas.manager.set_window_title(f\"{col_title} - Air Temp. & Rainfall\") # Sets the matplotlib window (containing the figure) title\n",
    "\n",
    "    # Regression for air temperature\n",
    "    model_air = np.poly1d(np.polyfit(x_air_iterable, y_air_iterable, deg=2)) # np.polyfit() does the polynomial regression, while np.poly1d() converts the regression results to a model that can be used for predictions\n",
    "\n",
    "    # Plot according to function parameters\n",
    "    ax1.plot(x_air_iterable, y_air_iterable, color='red', marker='.', label=f\"{col_title} - Air Temp.\") # plots temperature values on the first and upper plot\n",
    "    if mov_avg:\n",
    "        ax1.plot(x_air_iterable, y_air_iterable.rolling(rolling_window_size, 3).mean(), \n",
    "                 color='black', marker='', label=f\"{col_title} - Air Temp. Moving Avg.\") # Plots the moving average by using a rolling window (using .rolling())\n",
    "                                                                                         # For each window, the mean vlaue is calculated which is then used to plot the moving average.\n",
    "    if reg:\n",
    "        ax1.plot(x_air_extended, model_air(x_air_extended), color='orange', linewidth=2, label=f\"{col_title} - Air Temp. Regression\") # Uses the regression model to create regression line\n",
    "    ax1.set_ylabel(\"Avg. Temperature\") # Setting the label for the y axis\n",
    "    ax1.legend(loc='upper left') # Generating the legend located in the upper left of the plot\n",
    "    ax1.grid() # Grid for better readability\n",
    "\n",
    "    # Regression for rainfall - similar use of methods & functions as above\n",
    "    model_rain = np.poly1d(np.polyfit(x_rain_iterable, y_rain_iterable, deg=2))\n",
    "\n",
    "    # Plot according to function parameters\n",
    "    ax2.plot(x_rain_iterable, y_rain_iterable, color='blue', marker='.', label=f\"{col_title} - Rainfall\")\n",
    "    if mov_avg:\n",
    "        ax2.plot(x_rain_iterable, y_rain_iterable.rolling(rolling_window_size, 3).mean(),\n",
    "                 color='black', marker='', label=f\"{col_title} - Rainfall Moving Avg.\")\n",
    "    if reg:\n",
    "        ax2.plot(x_rain_extended, model_rain(x_air_extended), color='orange', linewidth=2, label=f\"{col_title} - Rainfall Regression\")\n",
    "    ax2.set_xlabel(\"Year\") # Setting a label for the x axis - only below the lower plot to save space\n",
    "    ax2.set_ylabel(\"Avg. Rainfall\")\n",
    "    ax2.legend(loc='upper left')\n",
    "    ax2.grid() # Grid for better readability\n",
    "    \n",
    "\n",
    "    # Save plot into plots directory - create directory if it does not exist\n",
    "    try:\n",
    "        cwd = os.getcwd() # retrieves the current working directory which is where the script is executed in our case\n",
    "        Path(f\"{cwd}/plots\").mkdir(parents=True, exist_ok=True) # Creates a new folder \"plots\" using mkdir if it does not exist already\n",
    "        fig.set_size_inches(15, 10) # Sets size of the matplotlib window for later saving to avoid to much of the plots to be hidden behind the legend\n",
    "        col_title_save = col_title.replace(\"/\", \"-\") # Replace \"/\" in the title for the file name\n",
    "        plt.savefig(f\"{cwd}/plots/air-rainfall-plot-{col_title_save}\", dpi=72) # Saves the figure with the plots in it\n",
    "        print(f\"Figure for {col_title} saved to \\\"<execution directory>/plots\\\"\")\n",
    "    except Exception as e:\n",
    "        print(\"Exception: \", e)\n",
    "        print(\"Creating/accessing the directory \\\"<execution directory>/plots\\\" failed. Please ensure you are running the script with admin permissions and in the right directory.\")\n",
    "\n",
    "    # Display\n",
    "    fig.set_size_inches(14, 7) # Reset the figure size for additional display using the matplotlib window\n",
    "    plt.show() # Displays the plots using matplotlib"
   ]
  },
  {
   "cell_type": "code",
   "execution_count": null,
   "metadata": {},
   "outputs": [],
   "source": [
    "# Set X and Y iterables for first state\n",
    "col_title_state=geo_air_df.columns[1] # Retrieves the name of the column with the index 1 - the 2nd column\n",
    "x_air = geo_air_df['Jahr'] # Extract the column \"Jahr\"\n",
    "y_air_state = geo_air_df[col_title_state] # Extract the temperature data for the given state name\n",
    "\n",
    "x_rain = geo_rain_df['Jahr'] # Same for the rain data\n",
    "y_rain_state = geo_rain_df[col_title_state]\n",
    "\n",
    "visualize(x_air, y_air_state, x_rain, y_rain_state, col_title_state, pred_year=2100) # Calling the function to visulaize the data for the first state"
   ]
  },
  {
   "cell_type": "code",
   "execution_count": null,
   "metadata": {},
   "outputs": [],
   "source": [
    "# Set X and Y iterables for Germany - x axis remains the same\n",
    "col_title_country = \"Deutschland\" # Same as above for entire Germany\n",
    "y_air_state = geo_air_df[col_title_country]\n",
    "y_rain_state = geo_rain_df[col_title_country]\n",
    "\n",
    "visualize(x_air, y_air_state, x_rain, y_rain_state, col_title_country, pred_year=2100)"
   ]
  }
 ],
 "metadata": {
  "kernelspec": {
   "display_name": "Python 3",
   "language": "python",
   "name": "python3"
  },
  "language_info": {
   "codemirror_mode": {
    "name": "ipython",
    "version": 3
   },
   "file_extension": ".py",
   "mimetype": "text/x-python",
   "name": "python",
   "nbconvert_exporter": "python",
   "pygments_lexer": "ipython3",
   "version": "3.8.8"
  }
 },
 "nbformat": 4,
 "nbformat_minor": 4
}
