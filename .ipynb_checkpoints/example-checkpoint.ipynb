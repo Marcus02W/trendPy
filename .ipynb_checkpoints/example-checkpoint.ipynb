{
 "cells": [
  {
   "cell_type": "code",
   "execution_count": 5,
   "id": "402c8950",
   "metadata": {},
   "outputs": [],
   "source": [
    "import matplotlib.pyplot as plt\n",
    "import TrendPy.methods as tm\n",
    "import numpy as np\n",
    "import seaborn as sns\n",
    "from sklearn.metrics import r2_score\n",
    "import pandas as pd\n",
    "\n",
    "sns.set()\n"
   ]
  },
  {
   "cell_type": "markdown",
   "id": "b60565ee",
   "metadata": {},
   "source": [
    "# TrendPy: Examples"
   ]
  },
  {
   "cell_type": "markdown",
   "id": "86652ff8",
   "metadata": {},
   "source": [
    "###  TrendPy linReg and NumPy polyfit first order"
   ]
  },
  {
   "cell_type": "code",
   "execution_count": 6,
   "id": "611a54a3",
   "metadata": {},
   "outputs": [
    {
     "data": {
      "text/plain": [
       "[1.25, -0.5]"
      ]
     },
     "execution_count": 6,
     "metadata": {},
     "output_type": "execute_result"
    }
   ],
   "source": [
    "\n",
    "x = np.array([1, 2, 3])\n",
    "\n",
    "y = np.array([1, 1.5, 3.5])\n",
    "\n",
    "coef = tm.linReg(x, y)\n",
    "\n",
    "coef\n"
   ]
  },
  {
   "cell_type": "code",
   "execution_count": 7,
   "id": "bbd77d85",
   "metadata": {},
   "outputs": [
    {
     "data": {
      "text/plain": [
       "poly1d([ 1.25, -0.5 ])"
      ]
     },
     "execution_count": 7,
     "metadata": {},
     "output_type": "execute_result"
    }
   ],
   "source": [
    "np.poly1d(coef)"
   ]
  },
  {
   "cell_type": "code",
   "execution_count": 8,
   "id": "bed3dd6d",
   "metadata": {},
   "outputs": [
    {
     "data": {
      "text/plain": [
       "array([ 1.25, -0.5 ])"
      ]
     },
     "execution_count": 8,
     "metadata": {},
     "output_type": "execute_result"
    }
   ],
   "source": [
    "np.polyfit(x, y, 1)"
   ]
  },
  {
   "cell_type": "code",
   "execution_count": 9,
   "id": "e80ebbb9",
   "metadata": {},
   "outputs": [
    {
     "data": {
      "text/plain": [
       "[1.25, -0.5]"
      ]
     },
     "execution_count": 9,
     "metadata": {},
     "output_type": "execute_result"
    }
   ],
   "source": [
    "coef"
   ]
  },
  {
   "cell_type": "code",
   "execution_count": 10,
   "id": "3e171b44",
   "metadata": {},
   "outputs": [
    {
     "data": {
      "text/plain": [
       "3.25"
      ]
     },
     "execution_count": 10,
     "metadata": {},
     "output_type": "execute_result"
    }
   ],
   "source": [
    "np.poly1d(coef)(3)"
   ]
  },
  {
   "cell_type": "code",
   "execution_count": 11,
   "id": "85789645",
   "metadata": {},
   "outputs": [
    {
     "data": {
      "text/plain": [
       "3.25"
      ]
     },
     "execution_count": 11,
     "metadata": {},
     "output_type": "execute_result"
    }
   ],
   "source": [
    "np.poly1d(np.polyfit(x, y, 1))(3)"
   ]
  },
  {
   "cell_type": "code",
   "execution_count": 12,
   "id": "e2e07d8e",
   "metadata": {},
   "outputs": [
    {
     "data": {
      "text/plain": [
       "<matplotlib.legend.Legend at 0x1dac2ff8ee0>"
      ]
     },
     "execution_count": 12,
     "metadata": {},
     "output_type": "execute_result"
    },
    {
     "data": {
      "image/png": "[encoded data removed]",
      "text/plain": [
       "<Figure size 432x288 with 1 Axes>"
      ]
     },
     "metadata": {},
     "output_type": "display_data"
    }
   ],
   "source": [
    "\n",
    "plt.plot(x, y, marker='o')\n",
    "plt.plot(x, coef[0]*x+coef[1], label='linReg manual use', marker='o')\n",
    "plt.plot(x, np.poly1d(np.polyfit(x, y, 1))(x), label='polyfit with poly1d', marker='x')\n",
    "plt.plot(x, np.poly1d(coef)(x), label='linReg with poly1d', linestyle='--')\n",
    "plt.legend()\n"
   ]
  },
  {
   "cell_type": "markdown",
   "id": "3503d10f",
   "metadata": {},
   "source": [
    "## Coefficient of determination from TrendPy and scikit-learn"
   ]
  },
  {
   "cell_type": "code",
   "execution_count": 13,
   "id": "f67bc725",
   "metadata": {},
   "outputs": [
    {
     "data": {
      "text/plain": [
       "0.8928571428571429"
      ]
     },
     "execution_count": 13,
     "metadata": {},
     "output_type": "execute_result"
    }
   ],
   "source": [
    "\n",
    "tm.r2(y, np.poly1d(coef)(x))\n",
    "\n"
   ]
  },
  {
   "cell_type": "code",
   "execution_count": 14,
   "id": "817e1834",
   "metadata": {},
   "outputs": [
    {
     "data": {
      "text/plain": [
       "0.8928571428571429"
      ]
     },
     "execution_count": 14,
     "metadata": {},
     "output_type": "execute_result"
    }
   ],
   "source": [
    "\n",
    "r2_score(y, np.poly1d(coef)(x))\n"
   ]
  },
  {
   "cell_type": "markdown",
   "id": "21b1a7ae",
   "metadata": {},
   "source": [
    "## External data"
   ]
  },
  {
   "cell_type": "code",
   "execution_count": 15,
   "id": "6cc4d8ed",
   "metadata": {},
   "outputs": [
    {
     "name": "stdout",
     "output_type": "stream",
     "text": [
      " Datentr„ger in Laufwerk C: ist Windows\n",
      " Volumeseriennummer: 1A7D-7DE3\n",
      "\n",
      " Verzeichnis von C:\\Users\\zoufi\\Documents\\GitHub\\trendPy\\data\n",
      "\n",
      "30.05.2022  08:32    <DIR>          .\n",
      "30.05.2022  08:32    <DIR>          ..\n",
      "08.04.2020  10:02            25.655 airGermany_historical.csv\n",
      "17.02.2020  21:48            66.862 BESCHREIBUNG_obsglobal_monthly_qc_air_temperature_mean_of_daily_max_historical_de.pdf\n",
      "17.02.2020  22:36            35.651 BESCHREIBUNG_regional_averages_DE_annual_air_temperature_mean_de.pdf\n",
      "17.02.2020  22:39            35.614 BESCHREIBUNG_regional_averages_DE_annual_precipitation_de.pdf\n",
      "               4 Datei(en),        163.782 Bytes\n",
      "               2 Verzeichnis(se), 288.769.667.072 Bytes frei\n"
     ]
    }
   ],
   "source": [
    "ls data"
   ]
  },
  {
   "cell_type": "code",
   "execution_count": 16,
   "id": "4e7d8c99",
   "metadata": {},
   "outputs": [
    {
     "data": {
      "text/html": [
       "<div>\n",
       "<style scoped>\n",
       "    .dataframe tbody tr th:only-of-type {\n",
       "        vertical-align: middle;\n",
       "    }\n",
       "\n",
       "    .dataframe tbody tr th {\n",
       "        vertical-align: top;\n",
       "    }\n",
       "\n",
       "    .dataframe thead th {\n",
       "        text-align: right;\n",
       "    }\n",
       "</style>\n",
       "<table border=\"1\" class=\"dataframe\">\n",
       "  <thead>\n",
       "    <tr style=\"text-align: right;\">\n",
       "      <th></th>\n",
       "      <th>Jahr.1</th>\n",
       "      <th>Brandenburg/Berlin</th>\n",
       "      <th>Brandenburg</th>\n",
       "      <th>Baden-Wuerttemberg</th>\n",
       "      <th>Bayern</th>\n",
       "      <th>Hessen</th>\n",
       "      <th>Mecklenburg-Vorpommern</th>\n",
       "      <th>Niedersachsen</th>\n",
       "      <th>Niedersachsen/Hamburg/Bremen</th>\n",
       "      <th>Nordrhein-Westfalen</th>\n",
       "      <th>Rheinland-Pfalz</th>\n",
       "      <th>Schleswig-Holstein</th>\n",
       "      <th>Saarland</th>\n",
       "      <th>Sachsen</th>\n",
       "      <th>Sachsen-Anhalt</th>\n",
       "      <th>Thueringen/Sachsen-Anhalt</th>\n",
       "      <th>Thueringen</th>\n",
       "      <th>Deutschland</th>\n",
       "      <th>Unnamed: 19</th>\n",
       "    </tr>\n",
       "    <tr>\n",
       "      <th>Jahr</th>\n",
       "      <th></th>\n",
       "      <th></th>\n",
       "      <th></th>\n",
       "      <th></th>\n",
       "      <th></th>\n",
       "      <th></th>\n",
       "      <th></th>\n",
       "      <th></th>\n",
       "      <th></th>\n",
       "      <th></th>\n",
       "      <th></th>\n",
       "      <th></th>\n",
       "      <th></th>\n",
       "      <th></th>\n",
       "      <th></th>\n",
       "      <th></th>\n",
       "      <th></th>\n",
       "      <th></th>\n",
       "      <th></th>\n",
       "    </tr>\n",
       "  </thead>\n",
       "  <tbody>\n",
       "    <tr>\n",
       "      <th>1881</th>\n",
       "      <td>year</td>\n",
       "      <td>7.55</td>\n",
       "      <td>7.54</td>\n",
       "      <td>7.66</td>\n",
       "      <td>6.61</td>\n",
       "      <td>7.49</td>\n",
       "      <td>6.96</td>\n",
       "      <td>7.54</td>\n",
       "      <td>7.54</td>\n",
       "      <td>8.14</td>\n",
       "      <td>7.97</td>\n",
       "      <td>7.12</td>\n",
       "      <td>8.28</td>\n",
       "      <td>6.71</td>\n",
       "      <td>7.46</td>\n",
       "      <td>7.11</td>\n",
       "      <td>6.66</td>\n",
       "      <td>7.31</td>\n",
       "      <td>NaN</td>\n",
       "    </tr>\n",
       "    <tr>\n",
       "      <th>1882</th>\n",
       "      <td>year</td>\n",
       "      <td>8.99</td>\n",
       "      <td>8.97</td>\n",
       "      <td>8.08</td>\n",
       "      <td>7.33</td>\n",
       "      <td>8.25</td>\n",
       "      <td>8.54</td>\n",
       "      <td>8.88</td>\n",
       "      <td>8.88</td>\n",
       "      <td>9.03</td>\n",
       "      <td>8.55</td>\n",
       "      <td>8.78</td>\n",
       "      <td>8.79</td>\n",
       "      <td>8.12</td>\n",
       "      <td>8.81</td>\n",
       "      <td>8.35</td>\n",
       "      <td>7.77</td>\n",
       "      <td>8.34</td>\n",
       "      <td>NaN</td>\n",
       "    </tr>\n",
       "    <tr>\n",
       "      <th>1883</th>\n",
       "      <td>year</td>\n",
       "      <td>8.42</td>\n",
       "      <td>8.41</td>\n",
       "      <td>7.77</td>\n",
       "      <td>6.85</td>\n",
       "      <td>7.96</td>\n",
       "      <td>7.95</td>\n",
       "      <td>8.39</td>\n",
       "      <td>8.39</td>\n",
       "      <td>8.71</td>\n",
       "      <td>8.26</td>\n",
       "      <td>8.18</td>\n",
       "      <td>8.51</td>\n",
       "      <td>7.46</td>\n",
       "      <td>8.32</td>\n",
       "      <td>7.87</td>\n",
       "      <td>7.31</td>\n",
       "      <td>7.88</td>\n",
       "      <td>NaN</td>\n",
       "    </tr>\n",
       "    <tr>\n",
       "      <th>1884</th>\n",
       "      <td>year</td>\n",
       "      <td>9.11</td>\n",
       "      <td>9.10</td>\n",
       "      <td>8.44</td>\n",
       "      <td>7.52</td>\n",
       "      <td>8.58</td>\n",
       "      <td>8.73</td>\n",
       "      <td>9.09</td>\n",
       "      <td>9.10</td>\n",
       "      <td>9.39</td>\n",
       "      <td>8.94</td>\n",
       "      <td>8.86</td>\n",
       "      <td>9.18</td>\n",
       "      <td>8.21</td>\n",
       "      <td>8.94</td>\n",
       "      <td>8.47</td>\n",
       "      <td>7.89</td>\n",
       "      <td>8.57</td>\n",
       "      <td>NaN</td>\n",
       "    </tr>\n",
       "    <tr>\n",
       "      <th>1885</th>\n",
       "      <td>year</td>\n",
       "      <td>8.40</td>\n",
       "      <td>8.39</td>\n",
       "      <td>7.82</td>\n",
       "      <td>7.04</td>\n",
       "      <td>7.66</td>\n",
       "      <td>7.68</td>\n",
       "      <td>7.94</td>\n",
       "      <td>7.94</td>\n",
       "      <td>8.31</td>\n",
       "      <td>8.01</td>\n",
       "      <td>7.62</td>\n",
       "      <td>8.30</td>\n",
       "      <td>7.73</td>\n",
       "      <td>8.07</td>\n",
       "      <td>7.67</td>\n",
       "      <td>7.16</td>\n",
       "      <td>7.74</td>\n",
       "      <td>NaN</td>\n",
       "    </tr>\n",
       "    <tr>\n",
       "      <th>...</th>\n",
       "      <td>...</td>\n",
       "      <td>...</td>\n",
       "      <td>...</td>\n",
       "      <td>...</td>\n",
       "      <td>...</td>\n",
       "      <td>...</td>\n",
       "      <td>...</td>\n",
       "      <td>...</td>\n",
       "      <td>...</td>\n",
       "      <td>...</td>\n",
       "      <td>...</td>\n",
       "      <td>...</td>\n",
       "      <td>...</td>\n",
       "      <td>...</td>\n",
       "      <td>...</td>\n",
       "      <td>...</td>\n",
       "      <td>...</td>\n",
       "      <td>...</td>\n",
       "      <td>...</td>\n",
       "    </tr>\n",
       "    <tr>\n",
       "      <th>2015</th>\n",
       "      <td>year</td>\n",
       "      <td>10.36</td>\n",
       "      <td>10.35</td>\n",
       "      <td>9.89</td>\n",
       "      <td>9.43</td>\n",
       "      <td>9.91</td>\n",
       "      <td>9.76</td>\n",
       "      <td>10.15</td>\n",
       "      <td>10.15</td>\n",
       "      <td>10.35</td>\n",
       "      <td>10.25</td>\n",
       "      <td>9.71</td>\n",
       "      <td>10.50</td>\n",
       "      <td>9.93</td>\n",
       "      <td>10.32</td>\n",
       "      <td>9.96</td>\n",
       "      <td>9.50</td>\n",
       "      <td>9.94</td>\n",
       "      <td>NaN</td>\n",
       "    </tr>\n",
       "    <tr>\n",
       "      <th>2016</th>\n",
       "      <td>year</td>\n",
       "      <td>10.00</td>\n",
       "      <td>9.98</td>\n",
       "      <td>9.29</td>\n",
       "      <td>8.88</td>\n",
       "      <td>9.44</td>\n",
       "      <td>9.62</td>\n",
       "      <td>9.94</td>\n",
       "      <td>9.94</td>\n",
       "      <td>10.11</td>\n",
       "      <td>9.76</td>\n",
       "      <td>9.61</td>\n",
       "      <td>9.90</td>\n",
       "      <td>9.37</td>\n",
       "      <td>10.08</td>\n",
       "      <td>9.63</td>\n",
       "      <td>9.03</td>\n",
       "      <td>9.55</td>\n",
       "      <td>NaN</td>\n",
       "    </tr>\n",
       "    <tr>\n",
       "      <th>2017</th>\n",
       "      <td>year</td>\n",
       "      <td>9.92</td>\n",
       "      <td>9.91</td>\n",
       "      <td>9.40</td>\n",
       "      <td>8.83</td>\n",
       "      <td>9.56</td>\n",
       "      <td>9.47</td>\n",
       "      <td>9.97</td>\n",
       "      <td>9.97</td>\n",
       "      <td>10.31</td>\n",
       "      <td>10.01</td>\n",
       "      <td>9.57</td>\n",
       "      <td>10.21</td>\n",
       "      <td>9.39</td>\n",
       "      <td>10.03</td>\n",
       "      <td>9.63</td>\n",
       "      <td>9.10</td>\n",
       "      <td>9.58</td>\n",
       "      <td>NaN</td>\n",
       "    </tr>\n",
       "    <tr>\n",
       "      <th>2018</th>\n",
       "      <td>year</td>\n",
       "      <td>10.84</td>\n",
       "      <td>10.82</td>\n",
       "      <td>10.38</td>\n",
       "      <td>9.89</td>\n",
       "      <td>10.52</td>\n",
       "      <td>10.20</td>\n",
       "      <td>10.73</td>\n",
       "      <td>10.73</td>\n",
       "      <td>11.02</td>\n",
       "      <td>10.84</td>\n",
       "      <td>10.18</td>\n",
       "      <td>11.10</td>\n",
       "      <td>10.29</td>\n",
       "      <td>10.88</td>\n",
       "      <td>10.46</td>\n",
       "      <td>9.91</td>\n",
       "      <td>10.45</td>\n",
       "      <td>NaN</td>\n",
       "    </tr>\n",
       "    <tr>\n",
       "      <th>2019</th>\n",
       "      <td>year</td>\n",
       "      <td>11.07</td>\n",
       "      <td>11.05</td>\n",
       "      <td>9.87</td>\n",
       "      <td>9.50</td>\n",
       "      <td>10.13</td>\n",
       "      <td>10.45</td>\n",
       "      <td>10.67</td>\n",
       "      <td>10.67</td>\n",
       "      <td>10.74</td>\n",
       "      <td>10.45</td>\n",
       "      <td>10.18</td>\n",
       "      <td>10.71</td>\n",
       "      <td>10.35</td>\n",
       "      <td>10.93</td>\n",
       "      <td>10.43</td>\n",
       "      <td>9.78</td>\n",
       "      <td>10.28</td>\n",
       "      <td>NaN</td>\n",
       "    </tr>\n",
       "  </tbody>\n",
       "</table>\n",
       "<p>139 rows × 19 columns</p>\n",
       "</div>"
      ],
      "text/plain": [
       "     Jahr.1  Brandenburg/Berlin  Brandenburg  Baden-Wuerttemberg  Bayern  \\\n",
       "Jahr                                                                       \n",
       "1881   year                7.55         7.54                7.66    6.61   \n",
       "1882   year                8.99         8.97                8.08    7.33   \n",
       "1883   year                8.42         8.41                7.77    6.85   \n",
       "1884   year                9.11         9.10                8.44    7.52   \n",
       "1885   year                8.40         8.39                7.82    7.04   \n",
       "...     ...                 ...          ...                 ...     ...   \n",
       "2015   year               10.36        10.35                9.89    9.43   \n",
       "2016   year               10.00         9.98                9.29    8.88   \n",
       "2017   year                9.92         9.91                9.40    8.83   \n",
       "2018   year               10.84        10.82               10.38    9.89   \n",
       "2019   year               11.07        11.05                9.87    9.50   \n",
       "\n",
       "      Hessen  Mecklenburg-Vorpommern  Niedersachsen  \\\n",
       "Jahr                                                  \n",
       "1881    7.49                    6.96           7.54   \n",
       "1882    8.25                    8.54           8.88   \n",
       "1883    7.96                    7.95           8.39   \n",
       "1884    8.58                    8.73           9.09   \n",
       "1885    7.66                    7.68           7.94   \n",
       "...      ...                     ...            ...   \n",
       "2015    9.91                    9.76          10.15   \n",
       "2016    9.44                    9.62           9.94   \n",
       "2017    9.56                    9.47           9.97   \n",
       "2018   10.52                   10.20          10.73   \n",
       "2019   10.13                   10.45          10.67   \n",
       "\n",
       "      Niedersachsen/Hamburg/Bremen  Nordrhein-Westfalen  Rheinland-Pfalz  \\\n",
       "Jahr                                                                       \n",
       "1881                          7.54                 8.14             7.97   \n",
       "1882                          8.88                 9.03             8.55   \n",
       "1883                          8.39                 8.71             8.26   \n",
       "1884                          9.10                 9.39             8.94   \n",
       "1885                          7.94                 8.31             8.01   \n",
       "...                            ...                  ...              ...   \n",
       "2015                         10.15                10.35            10.25   \n",
       "2016                          9.94                10.11             9.76   \n",
       "2017                          9.97                10.31            10.01   \n",
       "2018                         10.73                11.02            10.84   \n",
       "2019                         10.67                10.74            10.45   \n",
       "\n",
       "      Schleswig-Holstein  Saarland  Sachsen  Sachsen-Anhalt  \\\n",
       "Jahr                                                          \n",
       "1881                7.12      8.28     6.71            7.46   \n",
       "1882                8.78      8.79     8.12            8.81   \n",
       "1883                8.18      8.51     7.46            8.32   \n",
       "1884                8.86      9.18     8.21            8.94   \n",
       "1885                7.62      8.30     7.73            8.07   \n",
       "...                  ...       ...      ...             ...   \n",
       "2015                9.71     10.50     9.93           10.32   \n",
       "2016                9.61      9.90     9.37           10.08   \n",
       "2017                9.57     10.21     9.39           10.03   \n",
       "2018               10.18     11.10    10.29           10.88   \n",
       "2019               10.18     10.71    10.35           10.93   \n",
       "\n",
       "      Thueringen/Sachsen-Anhalt  Thueringen  Deutschland  Unnamed: 19  \n",
       "Jahr                                                                   \n",
       "1881                       7.11        6.66         7.31          NaN  \n",
       "1882                       8.35        7.77         8.34          NaN  \n",
       "1883                       7.87        7.31         7.88          NaN  \n",
       "1884                       8.47        7.89         8.57          NaN  \n",
       "1885                       7.67        7.16         7.74          NaN  \n",
       "...                         ...         ...          ...          ...  \n",
       "2015                       9.96        9.50         9.94          NaN  \n",
       "2016                       9.63        9.03         9.55          NaN  \n",
       "2017                       9.63        9.10         9.58          NaN  \n",
       "2018                      10.46        9.91        10.45          NaN  \n",
       "2019                      10.43        9.78        10.28          NaN  \n",
       "\n",
       "[139 rows x 19 columns]"
      ]
     },
     "execution_count": 16,
     "metadata": {},
     "output_type": "execute_result"
    }
   ],
   "source": [
    "data = pd.read_csv('data/airGermany_historical.csv', sep=';', header=1, index_col='Jahr')\n",
    "data"
   ]
  },
  {
   "cell_type": "code",
   "execution_count": 30,
   "id": "c9262cc4",
   "metadata": {},
   "outputs": [
    {
     "data": {
      "text/plain": [
       "<matplotlib.legend.Legend at 0x1dac37d3730>"
      ]
     },
     "execution_count": 30,
     "metadata": {},
     "output_type": "execute_result"
    },
    {
     "data": {
      "image/png": "[encoded data removed]",
      "text/plain": [
       "<Figure size 432x288 with 1 Axes>"
      ]
     },
     "metadata": {},
     "output_type": "display_data"
    }
   ],
   "source": [
    "\n",
    "x_in = data['Deutschland'].index.values\n",
    "y_out = data['Deutschland'].values\n",
    "\n",
    "coef_lin = tm.linReg(x_in, y_out)\n",
    "\n",
    "r2_lin = tm.r2(y_out, np.poly1d(coef_lin)(x_in))\n",
    "r2_lin = round(r2_lin, 2)\n",
    "\n",
    "coef_quad = tm.polReg(x_in, y_out, 2)\n",
    "\n",
    "r2_quad = tm.r2(y_out, np.poly1d(coef_quad)(x_in))\n",
    "r2_quad = round(r2_quad, 2)\n",
    "\n",
    "data['Deutschland'].plot()\n",
    "plt.plot(x_in, np.poly1d(coef_lin)(x_in), label=f'lin reg $r^2={r2_lin}$')\n",
    "plt.plot(x_in, np.poly1d(coef_quad)(x_in), label=f'quad reg $r^2={r2_quad}$')\n",
    "\n",
    "plt.legend()\n"
   ]
  },
  {
   "cell_type": "code",
   "execution_count": null,
   "id": "fb6e2e30",
   "metadata": {},
   "outputs": [],
   "source": []
  }
 ],
 "metadata": {
  "kernelspec": {
   "display_name": "Python 3",
   "language": "python",
   "name": "python3"
  },
  "language_info": {
   "codemirror_mode": {
    "name": "ipython",
    "version": 3
   },
   "file_extension": ".py",
   "mimetype": "text/x-python",
   "name": "python",
   "nbconvert_exporter": "python",
   "pygments_lexer": "ipython3",
   "version": "3.8.8"
  }
 },
 "nbformat": 4,
 "nbformat_minor": 5
}
